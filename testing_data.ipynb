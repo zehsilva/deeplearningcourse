{
 "cells": [
  {
   "cell_type": "code",
   "execution_count": 1,
   "metadata": {},
   "outputs": [],
   "source": [
    "import pretty_midi\n",
    "import numpy as np\n",
    "import datapreparation as datp\n",
    "reload(datp)\n",
    "%matplotlib inline\n",
    "import pandas as pd\n",
    "import matplotlib.pyplot as plt\n",
    "import torch\n",
    "from torch import nn\n"
   ]
  },
  {
   "cell_type": "code",
   "execution_count": 10,
   "metadata": {},
   "outputs": [
    {
     "data": {
      "text/plain": [
       "'\\nhelper libraries (via pip install):\\npypianoroll for visualization\\npretty_midi for data conversion\\n'"
      ]
     },
     "execution_count": 10,
     "metadata": {},
     "output_type": "execute_result"
    }
   ],
   "source": [
    "\"\"\"\n",
    "classical music dataset (downloaded bach, mozart, brahms and debussy) : http://www.piano-midi.de\n",
    "\n",
    "\n",
    "lakh piano roll (not used) https://salu133445.github.io/lakh-pianoroll-dataset/dataset.html\n",
    "\"\"\"\n",
    "\n",
    "\"\"\"\n",
    "helper libraries (via pip install):\n",
    "pypianoroll for visualization\n",
    "pretty_midi for data conversion\n",
    "\"\"\""
   ]
  },
  {
   "cell_type": "code",
   "execution_count": 4,
   "metadata": {},
   "outputs": [],
   "source": [
    "### convert all mid to piano_roll\n",
    "#files=!ls datasets/classical/*.mid\n",
    "#for f in files:\n",
    "#    datp.midfile_to_piano_roll(f)\n",
    "    \n",
    "    \n",
    "### convert all mid to piano_roll\n",
    "fs=1\n",
    "files=!ls datasets/classical/*.mid\n",
    "for f in files:\n",
    "    datp.midfile_to_piano_roll(f,fs)"
   ]
  },
  {
   "cell_type": "code",
   "execution_count": 3,
   "metadata": {},
   "outputs": [],
   "source": [
    "## load dataset of piano roll as csv\n",
    "dataset = datp.load_all_dataset(\"datasets/classical/piano_roll_fs5/\",binarize=False)"
   ]
  },
  {
   "cell_type": "code",
   "execution_count": 23,
   "metadata": {},
   "outputs": [],
   "source": [
    "dataset_tags = datp.load_all_dataset_names(\"datasets/classical/piano_roll_fs5/\")"
   ]
  },
  {
   "cell_type": "code",
   "execution_count": 120,
   "metadata": {},
   "outputs": [],
   "source": [
    "tags_ids=dict(zip(np.unique(dataset_tags),range(np.unique(dataset_tags).size)))"
   ]
  },
  {
   "cell_type": "code",
   "execution_count": 7,
   "metadata": {},
   "outputs": [
    {
     "data": {
      "text/plain": [
       "tensor([[  0.,   0.,   0.,  ...,   0.,   0.,   0.],\n",
       "        [  1.,   0.,   0.,  ...,   0.,   0.,   0.],\n",
       "        [  2.,   0.,   0.,  ...,   0.,   0.,   0.],\n",
       "        ...,\n",
       "        [125.,   0.,   0.,  ...,   0.,   0.,   0.],\n",
       "        [126.,   0.,   0.,  ...,   0.,   0.,   0.],\n",
       "        [127.,   0.,   0.,  ...,   0.,   0.,   0.]])"
      ]
     },
     "execution_count": 7,
     "metadata": {},
     "output_type": "execute_result"
    }
   ],
   "source": [
    "torch.Tensor(dataset[0])"
   ]
  },
  {
   "cell_type": "code",
   "execution_count": 7,
   "metadata": {},
   "outputs": [
    {
     "name": "stdout",
     "output_type": "stream",
     "text": [
      "83091\n",
      "[128]\n"
     ]
    }
   ],
   "source": [
    "print datp.get_max_length(dataset)\n",
    "print datp.get_numkeys(dataset)\n",
    "\n",
    "maxlength = datp.get_max_length(dataset)\n",
    "numkeys = datp.get_numkeys(dataset)[0]"
   ]
  },
  {
   "cell_type": "code",
   "execution_count": 6,
   "metadata": {},
   "outputs": [
    {
     "ename": "NameError",
     "evalue": "name 'dataset' is not defined",
     "output_type": "error",
     "traceback": [
      "\u001b[0;31m---------------------------------------------------------------------------\u001b[0m",
      "\u001b[0;31mNameError\u001b[0m                                 Traceback (most recent call last)",
      "\u001b[0;32m<ipython-input-6-2eba7ad495c4>\u001b[0m in \u001b[0;36m<module>\u001b[0;34m()\u001b[0m\n\u001b[0;32m----> 1\u001b[0;31m \u001b[0mdatp\u001b[0m\u001b[0;34m.\u001b[0m\u001b[0mvisualize_piano_roll\u001b[0m\u001b[0;34m(\u001b[0m\u001b[0mdataset\u001b[0m\u001b[0;34m[\u001b[0m\u001b[0;36m10\u001b[0m\u001b[0;34m]\u001b[0m\u001b[0;34m)\u001b[0m\u001b[0;34m\u001b[0m\u001b[0m\n\u001b[0m",
      "\u001b[0;31mNameError\u001b[0m: name 'dataset' is not defined"
     ]
    }
   ],
   "source": [
    "datp.visualize_piano_roll(dataset[10])\n"
   ]
  },
  {
   "cell_type": "code",
   "execution_count": 9,
   "metadata": {},
   "outputs": [
    {
     "data": {
      "text/plain": [
       "'deeplearningcourse/dataset5.mid'"
      ]
     },
     "execution_count": 9,
     "metadata": {},
     "output_type": "execute_result"
    }
   ],
   "source": [
    "datp.piano_roll_to_mid_file(dataset[5],\"dataset5.mid\")"
   ]
  },
  {
   "cell_type": "code",
   "execution_count": 33,
   "metadata": {},
   "outputs": [],
   "source": [
    "#datp.embed_play_v1(dataset[0])"
   ]
  },
  {
   "cell_type": "code",
   "execution_count": 59,
   "metadata": {},
   "outputs": [
    {
     "data": {
      "text/plain": [
       "<module 'model' from 'model.py'>"
      ]
     },
     "execution_count": 59,
     "metadata": {},
     "output_type": "execute_result"
    }
   ],
   "source": [
    "import model as mymodel\n",
    "reload(mymodel)"
   ]
  },
  {
   "cell_type": "code",
   "execution_count": 60,
   "metadata": {},
   "outputs": [],
   "source": [
    "import dataset as dats\n",
    "reload(dats)\n",
    "data = dats.pianoroll_dataset_batch(\"datasets/classical\")"
   ]
  },
  {
   "cell_type": "code",
   "execution_count": 51,
   "metadata": {},
   "outputs": [],
   "source": [
    "##model = mymodel.Composer(input_size=128, hidden_size=50, num_tags=4, n_layers=4)\n",
    "\n",
    "model = mymodel.Composer(input_size=data.num_keys(), hidden_size=50, num_tags=data.num_tags(), n_layers=5)\n"
   ]
  },
  {
   "cell_type": "code",
   "execution_count": 55,
   "metadata": {},
   "outputs": [
    {
     "name": "stdout",
     "output_type": "stream",
     "text": [
      "tensor(0.6746, grad_fn=<BinaryCrossEntropyBackward>)\n",
      "tensor(0.6672, grad_fn=<BinaryCrossEntropyBackward>)\n",
      "tensor(0.6588, grad_fn=<BinaryCrossEntropyBackward>)\n",
      "tensor(0.6460, grad_fn=<BinaryCrossEntropyBackward>)\n",
      "tensor(0.6346, grad_fn=<BinaryCrossEntropyBackward>)\n",
      "tensor(0.6204, grad_fn=<BinaryCrossEntropyBackward>)\n",
      "tensor(0.6012, grad_fn=<BinaryCrossEntropyBackward>)\n",
      "tensor(0.5840, grad_fn=<BinaryCrossEntropyBackward>)\n",
      "tensor(0.5582, grad_fn=<BinaryCrossEntropyBackward>)\n",
      "tensor(0.5334, grad_fn=<BinaryCrossEntropyBackward>)\n",
      "tensor(0.5139, grad_fn=<BinaryCrossEntropyBackward>)\n",
      "tensor(0.4863, grad_fn=<BinaryCrossEntropyBackward>)\n",
      "tensor(0.4610, grad_fn=<BinaryCrossEntropyBackward>)\n",
      "tensor(0.4462, grad_fn=<BinaryCrossEntropyBackward>)\n",
      "tensor(0.4202, grad_fn=<BinaryCrossEntropyBackward>)\n"
     ]
    }
   ],
   "source": [
    "rnn = model\n",
    "rnn = rnn\n",
    "\n",
    "criterion = nn.BCELoss()\n",
    "\n",
    "learning_rate = 0.001\n",
    "optimizer = torch.optim.Adam(rnn.parameters(), lr=learning_rate)\n",
    "\n",
    "\n",
    "\n",
    "for i in range(100):\n",
    "    for item in [data[1],data[5],data[7]]:\n",
    "        optimizer.zero_grad()\n",
    "        res=model(item[0],item[1])\n",
    "        loss=criterion(res[0],item[-1])\n",
    "        loss.backward()\n",
    "        optimizer.step()\n",
    "        print loss"
   ]
  },
  {
   "cell_type": "code",
   "execution_count": 34,
   "metadata": {},
   "outputs": [],
   "source": [
    "#song=model.generate( torch.LongTensor([item[1]]).unsqueeze(1),10000,1)\n",
    "#datp.visualize_piano_roll(( song.squeeze(1).detach().numpy()).astype(int).T)\n",
    "#datp.embed_play_v1(( song.squeeze(1).detach().numpy()).astype(int).T)"
   ]
  },
  {
   "cell_type": "code",
   "execution_count": 62,
   "metadata": {},
   "outputs": [],
   "source": [
    "#song=model.generate( torch.LongTensor([item[1]]).unsqueeze(1),10000,10)\n",
    "#datp.visualize_piano_roll(( song.squeeze(1).detach().numpy()).astype(int).T)\n",
    "#datp.embed_play_v1(( song.squeeze(1).detach().numpy()).astype(int).T)"
   ]
  },
  {
   "cell_type": "code",
   "execution_count": 20,
   "metadata": {},
   "outputs": [
    {
     "data": {
      "image/png": "[encoded data removed]",
      "text/plain": [
       "<Figure size 432x288 with 1 Axes>"
      ]
     },
     "metadata": {},
     "output_type": "display_data"
    }
   ],
   "source": [
    "\n",
    "\n",
    "init = torch.randint(0,2,size=(10,1,model.input_size))\n",
    "res = init\n",
    "hidden = None\n",
    "for i in xrange(10000//10):\n",
    "    init,hidden = model.forward(init,item[1],hidden)\n",
    "    #init = torch.exp(torch.exp(init))\n",
    "    #init = torch.round(init)\n",
    "    res = torch.cat ( ( res, init ) )\n",
    "song = res\n",
    "datp.visualize_piano_roll(( song.squeeze(1).detach().numpy()).astype(int).T)\n"
   ]
  },
  {
   "cell_type": "code",
   "execution_count": 64,
   "metadata": {},
   "outputs": [],
   "source": [
    "#datp.embed_play_v1(( song.squeeze(1).detach().numpy()).astype(int).T)"
   ]
  },
  {
   "cell_type": "code",
   "execution_count": 63,
   "metadata": {},
   "outputs": [],
   "source": [
    "\n",
    "\n",
    "#datp.embed_play_v1(( item[0].squeeze(1).detach().numpy()>0).astype(int).T)"
   ]
  },
  {
   "cell_type": "code",
   "execution_count": 26,
   "metadata": {},
   "outputs": [
    {
     "name": "stdout",
     "output_type": "stream",
     "text": [
      "composer =  bach\n"
     ]
    },
    {
     "data": {
      "image/png": "[encoded data removed]",
      "text/plain": [
       "<Figure size 432x288 with 1 Axes>"
      ]
     },
     "metadata": {},
     "output_type": "display_data"
    }
   ],
   "source": [
    "index = 2\n",
    "\n",
    "print \"composer = \",dataset_tags[index]\n",
    "\n",
    "datp.visualize_piano_roll(dataset[index].T)\n"
   ]
  },
  {
   "cell_type": "code",
   "execution_count": 27,
   "metadata": {},
   "outputs": [
    {
     "name": "stdout",
     "output_type": "stream",
     "text": [
      "composer =  bach\n"
     ]
    },
    {
     "data": {
      "image/png": "[encoded data removed]",
      "text/plain": [
       "<Figure size 432x288 with 1 Axes>"
      ]
     },
     "metadata": {},
     "output_type": "display_data"
    }
   ],
   "source": [
    "index = 0\n",
    "\n",
    "print \"composer = \",dataset_tags[index]\n",
    "\n",
    "datp.visualize_piano_roll(dataset[index].T)\n"
   ]
  },
  {
   "cell_type": "code",
   "execution_count": 32,
   "metadata": {},
   "outputs": [
    {
     "name": "stdout",
     "output_type": "stream",
     "text": [
      "composer =  mz\n"
     ]
    },
    {
     "data": {
      "image/png": "[encoded data removed]",
      "text/plain": [
       "<Figure size 432x288 with 1 Axes>"
      ]
     },
     "metadata": {},
     "output_type": "display_data"
    }
   ],
   "source": [
    "index = -4\n",
    "\n",
    "print \"composer = \",dataset_tags[index]\n",
    "\n",
    "datp.visualize_piano_roll(dataset[index].T)"
   ]
  },
  {
   "cell_type": "code",
   "execution_count": 11,
   "metadata": {},
   "outputs": [
    {
     "ename": "AttributeError",
     "evalue": "'numpy.ndarray' object has no attribute 'view_pianoroll'",
     "output_type": "error",
     "traceback": [
      "\u001b[0;31m---------------------------------------------------------------------------\u001b[0m",
      "\u001b[0;31mAttributeError\u001b[0m                            Traceback (most recent call last)",
      "\u001b[0;32m<ipython-input-11-7d730aa9237f>\u001b[0m in \u001b[0;36m<module>\u001b[0;34m()\u001b[0m\n\u001b[0;32m----> 1\u001b[0;31m \u001b[0mdataset\u001b[0m\u001b[0;34m[\u001b[0m\u001b[0;36m0\u001b[0m\u001b[0;34m]\u001b[0m\u001b[0;34m.\u001b[0m\u001b[0mview_pianoroll\u001b[0m\u001b[0;34m(\u001b[0m\u001b[0;36m0\u001b[0m\u001b[0;34m)\u001b[0m\u001b[0;34m\u001b[0m\u001b[0m\n\u001b[0m",
      "\u001b[0;31mAttributeError\u001b[0m: 'numpy.ndarray' object has no attribute 'view_pianoroll'"
     ]
    }
   ],
   "source": [
    "dataset[0].view_pianoroll(0)"
   ]
  },
  {
   "cell_type": "code",
   "execution_count": null,
   "metadata": {},
   "outputs": [],
   "source": []
  },
  {
   "cell_type": "code",
   "execution_count": null,
   "metadata": {},
   "outputs": [],
   "source": []
  },
  {
   "cell_type": "code",
   "execution_count": 17,
   "metadata": {},
   "outputs": [
    {
     "data": {
      "text/plain": [
       "array([[0, 0, 0, ..., 0, 0, 0],\n",
       "       [1, 0, 0, ..., 0, 0, 0],\n",
       "       [1, 0, 0, ..., 0, 0, 0],\n",
       "       ...,\n",
       "       [1, 0, 0, ..., 0, 0, 0],\n",
       "       [1, 0, 0, ..., 0, 0, 0],\n",
       "       [1, 0, 0, ..., 0, 0, 0]])"
      ]
     },
     "execution_count": 17,
     "metadata": {},
     "output_type": "execute_result"
    }
   ],
   "source": []
  },
  {
   "cell_type": "code",
   "execution_count": 64,
   "metadata": {},
   "outputs": [],
   "source": []
  },
  {
   "cell_type": "code",
   "execution_count": 216,
   "metadata": {},
   "outputs": [],
   "source": []
  },
  {
   "cell_type": "code",
   "execution_count": null,
   "metadata": {},
   "outputs": [],
   "source": []
  },
  {
   "cell_type": "code",
   "execution_count": null,
   "metadata": {},
   "outputs": [],
   "source": []
  },
  {
   "cell_type": "code",
   "execution_count": 213,
   "metadata": {},
   "outputs": [],
   "source": []
  },
  {
   "cell_type": "code",
   "execution_count": null,
   "metadata": {},
   "outputs": [],
   "source": []
  },
  {
   "cell_type": "code",
   "execution_count": 133,
   "metadata": {},
   "outputs": [],
   "source": []
  },
  {
   "cell_type": "code",
   "execution_count": null,
   "metadata": {},
   "outputs": [],
   "source": []
  },
  {
   "cell_type": "code",
   "execution_count": null,
   "metadata": {},
   "outputs": [],
   "source": []
  }
 ],
 "metadata": {
  "kernelspec": {
   "display_name": "Python 2",
   "language": "python",
   "name": "python2"
  },
  "language_info": {
   "codemirror_mode": {
    "name": "ipython",
    "version": 2
   },
   "file_extension": ".py",
   "mimetype": "text/x-python",
   "name": "python",
   "nbconvert_exporter": "python",
   "pygments_lexer": "ipython2",
   "version": "2.7.12"
  }
 },
 "nbformat": 4,
 "nbformat_minor": 2
}
