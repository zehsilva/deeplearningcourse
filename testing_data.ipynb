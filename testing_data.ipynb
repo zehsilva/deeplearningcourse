{
 "cells": [
  {
   "cell_type": "code",
   "execution_count": 130,
   "metadata": {},
   "outputs": [],
   "source": [
    "import pretty_midi\n",
    "import numpy as np\n",
    "import datapreparation as datp\n",
    "reload(datp)\n",
    "%matplotlib inline\n",
    "import pandas as pd\n",
    "import matplotlib.pyplot as plt"
   ]
  },
  {
   "cell_type": "code",
   "execution_count": null,
   "metadata": {},
   "outputs": [],
   "source": [
    "\"\"\"\n",
    "classical music dataset (downloaded bach, mozart, brahms and debussy) : http://www.piano-midi.de\n",
    "\n",
    "\n",
    "lakh piano roll (not used) https://salu133445.github.io/lakh-pianoroll-dataset/dataset.html\n",
    "\"\"\"\n",
    "\n",
    "\"\"\"\n",
    "helper libraries (via pip install):\n",
    "pypianoroll for visualization\n",
    "pretty_midi for data conversion\n",
    "\"\"\""
   ]
  },
  {
   "cell_type": "code",
   "execution_count": 60,
   "metadata": {},
   "outputs": [],
   "source": [
    "### convert all mid to piano_roll\n",
    "files=!ls /home/ahomec/e/eddasilv/datasets/classical/*.mid\n",
    "for f in files:\n",
    "    datp.midfile_to_piano_roll(f)"
   ]
  },
  {
   "cell_type": "code",
   "execution_count": 116,
   "metadata": {},
   "outputs": [],
   "source": [
    "## load dataset of piano roll as csv\n",
    "dataset = datp.load_all_dataset(\"/home/ahomec/e/eddasilv/datasets/classical\")"
   ]
  },
  {
   "cell_type": "code",
   "execution_count": null,
   "metadata": {},
   "outputs": [],
   "source": [
    "dataset_tags = datp.load_all_dataset_names(\"/home/ahomec/e/eddasilv/datasets/classical\")"
   ]
  },
  {
   "cell_type": "code",
   "execution_count": 131,
   "metadata": {},
   "outputs": [
    {
     "data": {
      "text/plain": [
       "['bach',\n",
       " 'bach',\n",
       " 'bach',\n",
       " 'brahms',\n",
       " 'brahms',\n",
       " 'brahms',\n",
       " 'brahms',\n",
       " 'brahms',\n",
       " 'brahms',\n",
       " 'brahms',\n",
       " 'brahms',\n",
       " 'brahms',\n",
       " 'brahms',\n",
       " 'debussy',\n",
       " 'debussy',\n",
       " 'debussy',\n",
       " 'debussy',\n",
       " 'debussy',\n",
       " 'debussy',\n",
       " 'debussy',\n",
       " 'debussy',\n",
       " 'debussy',\n",
       " 'mz',\n",
       " 'mz',\n",
       " 'mz',\n",
       " 'mz',\n",
       " 'mz',\n",
       " 'mz',\n",
       " 'mz',\n",
       " 'mz',\n",
       " 'mz',\n",
       " 'mz',\n",
       " 'mz',\n",
       " 'mz',\n",
       " 'mz',\n",
       " 'mz',\n",
       " 'mz',\n",
       " 'mz',\n",
       " 'mz',\n",
       " 'mz',\n",
       " 'mz',\n",
       " 'mz',\n",
       " 'mz']"
      ]
     },
     "execution_count": 131,
     "metadata": {},
     "output_type": "execute_result"
    }
   ],
   "source": [
    "dataset_tags"
   ]
  },
  {
   "cell_type": "code",
   "execution_count": 83,
   "metadata": {},
   "outputs": [
    {
     "name": "stdout",
     "output_type": "stream",
     "text": [
      "83091\n",
      "[128]\n"
     ]
    }
   ],
   "source": [
    "print datp.get_max_length(dataset)\n",
    "print datp.get_numkeys(dataset)\n",
    "\n",
    "maxlength = datp.get_max_length(dataset)\n",
    "numkeys = datp.get_numkeys(dataset)[0]"
   ]
  },
  {
   "cell_type": "code",
   "execution_count": 132,
   "metadata": {},
   "outputs": [
    {
     "data": {
      "image/png": "[encoded data removed]",
      "text/plain": [
       "<Figure size 432x288 with 1 Axes>"
      ]
     },
     "metadata": {},
     "output_type": "display_data"
    }
   ],
   "source": [
    "datp.visualize_piano_roll(dataset[5])\n"
   ]
  },
  {
   "cell_type": "code",
   "execution_count": 134,
   "metadata": {},
   "outputs": [
    {
     "data": {
      "text/plain": [
       "'/home/ahomec/e/eddasilv/deeplearningcourse/dataset5.mid'"
      ]
     },
     "execution_count": 134,
     "metadata": {},
     "output_type": "execute_result"
    }
   ],
   "source": [
    "datp.piano_roll_to_mid_file(dataset[5],\"dataset5.mid\")"
   ]
  },
  {
   "cell_type": "code",
   "execution_count": null,
   "metadata": {},
   "outputs": [],
   "source": []
  }
 ],
 "metadata": {
  "kernelspec": {
   "display_name": "Python 2",
   "language": "python",
   "name": "python2"
  },
  "language_info": {
   "codemirror_mode": {
    "name": "ipython",
    "version": 2
   },
   "file_extension": ".py",
   "mimetype": "text/x-python",
   "name": "python",
   "nbconvert_exporter": "python",
   "pygments_lexer": "ipython2",
   "version": "2.7.12"
  }
 },
 "nbformat": 4,
 "nbformat_minor": 2
}
